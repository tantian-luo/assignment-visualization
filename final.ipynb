{
 "cells": [
  {
   "cell_type": "code",
   "execution_count": 15,
   "id": "19781edd",
   "metadata": {},
   "outputs": [
    {
     "ename": "ModuleNotFoundError",
     "evalue": "No module named 'missingno'",
     "output_type": "error",
     "traceback": [
      "\u001b[0;31m---------------------------------------------------------------------------\u001b[0m",
      "\u001b[0;31mModuleNotFoundError\u001b[0m                       Traceback (most recent call last)",
      "\u001b[0;32m/var/folders/xp/_j9r2qhj7b7cc2fngxtshl4c0000gp/T/ipykernel_16965/1720070962.py\u001b[0m in \u001b[0;36m<module>\u001b[0;34m\u001b[0m\n\u001b[1;32m      7\u001b[0m \u001b[0;32mimport\u001b[0m \u001b[0mpandas\u001b[0m \u001b[0;32mas\u001b[0m \u001b[0mpd\u001b[0m\u001b[0;34m\u001b[0m\u001b[0;34m\u001b[0m\u001b[0m\n\u001b[1;32m      8\u001b[0m \u001b[0;32mfrom\u001b[0m \u001b[0mmatplotlib\u001b[0m \u001b[0;32mimport\u001b[0m \u001b[0mpyplot\u001b[0m \u001b[0;32mas\u001b[0m \u001b[0mplt\u001b[0m\u001b[0;34m\u001b[0m\u001b[0;34m\u001b[0m\u001b[0m\n\u001b[0;32m----> 9\u001b[0;31m \u001b[0;32mimport\u001b[0m \u001b[0mmissingno\u001b[0m \u001b[0;32mas\u001b[0m \u001b[0mmsno\u001b[0m\u001b[0;34m\u001b[0m\u001b[0;34m\u001b[0m\u001b[0m\n\u001b[0m\u001b[1;32m     10\u001b[0m \u001b[0;32mimport\u001b[0m \u001b[0mseaborn\u001b[0m \u001b[0;32mas\u001b[0m \u001b[0msns\u001b[0m\u001b[0;34m\u001b[0m\u001b[0;34m\u001b[0m\u001b[0m\n\u001b[1;32m     11\u001b[0m \u001b[0;32mimport\u001b[0m \u001b[0mplotly\u001b[0m\u001b[0;34m.\u001b[0m\u001b[0mexpress\u001b[0m \u001b[0;32mas\u001b[0m \u001b[0mpx\u001b[0m\u001b[0;34m\u001b[0m\u001b[0;34m\u001b[0m\u001b[0m\n",
      "\u001b[0;31mModuleNotFoundError\u001b[0m: No module named 'missingno'"
     ]
    }
   ],
   "source": [
    "#importing all of our libraries to be used\n",
    "import warnings \n",
    "warnings.filterwarnings('ignore')\n",
    "import pandas as pd\n",
    "import string\n",
    "import numpy as np\n",
    "import pandas as pd\n",
    "from matplotlib import pyplot as plt\n",
    "import missingno as msno\n",
    "import seaborn as sns\n",
    "import plotly.express as px\n",
    "import plotly.graph_objects as go\n",
    "%matplotlib inline\n",
    "\n",
    "#importing dataframe and printing its columns\n",
    "df = pd.read_csv('data.csv')\n",
    "df.info()\n",
    "print(list(df.columns))\n",
    "\n",
    "\n",
    "df.replace((1, 0),('yes', 'no') , inplace=True) \n",
    "\n",
    "\n",
    "\n",
    "\n"
   ]
  },
  {
   "cell_type": "code",
   "execution_count": null,
   "id": "fcd40531",
   "metadata": {},
   "outputs": [],
   "source": [
    "#Cleaning the gender and age columns\n",
    "df.drop(df[df['Age'] < 0].index, inplace = True) \n",
    "df.drop(df[df['Age'] > 100].index, inplace = True)\n",
    "df['Age'].unique()\n",
    "df['Gender'].replace(['Male ', 'male', 'M', 'm', 'Male', 'Cis Male',\n",
    "                     'Man', 'cis male', 'Mail', 'Male-ish', 'Male (CIS)',\n",
    "                      'Cis Man', 'msle', 'Malr', 'Mal', 'maile', 'Make',], 'Male', inplace = True)\n",
    "\n",
    "df['Gender'].replace(['Female ', 'female', 'F', 'f', 'Woman', 'Female',\n",
    "                     'femail', 'Cis Female', 'cis-female/femme', 'Femake', 'Female (cis)',\n",
    "                     'woman',], 'Female', inplace = True)\n",
    "\n",
    "df[\"Gender\"].replace(['Female (trans)', 'queer/she/they', 'non-binary',\n",
    "                     'fluid', 'queer', 'Androgyne', 'Trans-female', 'male leaning androgynous',\n",
    "                      'Agender', 'A little about you', 'Nah', 'All',\n",
    "                      'ostensibly male, unsure what that really means',\n",
    "                      'Genderqueer', 'Enby', 'p', 'Neuter', 'something kinda male?',\n",
    "                      'Guy (-ish) ^_^', 'Trans woman',], 'Other', inplace = True)\n",
    "\n",
    "df['Gender'].value_counts()"
   ]
  },
  {
   "cell_type": "code",
   "execution_count": null,
   "id": "4f053936",
   "metadata": {
    "scrolled": true
   },
   "outputs": [],
   "source": [
    "sns.set_style('dark')\n",
    "color = ['green','pink','yellow','black','orange']\n",
    "msno.bar(df,fontsize =14, color = color, sort = 'descending', figsize = (15,15))\n",
    "\n",
    "plt.text(0.05,1.265,'Mental Health at Workplace : Null Values', {'font':'serif', 'size':20, 'weight':'bold'})\n",
    "plt.text(0.05,1.15,'''We have performed some feature engineering on our dataset. Now, let us try to see if there are any null values remaining in the dataset.''', {'font':'serif', 'size':12, 'weight':'normal'}, alpha = 0.8)\n",
    "plt.xticks( rotation = 90, \n",
    "                   **{'font':'serif','size':14,'weight':'bold','horizontalalignment': 'center'},alpha = 0.8)\n",
    "\n",
    "plt.show()"
   ]
  },
  {
   "cell_type": "code",
   "execution_count": null,
   "id": "f43d36e7",
   "metadata": {
    "scrolled": true
   },
   "outputs": [],
   "source": [
    "df.replace((1, 0),('yes', 'no') , inplace=True) \n",
    "plt.figure(figsize = (8,5))\n",
    "plt.title('Employee history of family mental health', fontsize=18, fontweight='bold')\n",
    "eda_percentage = df['family_history'].value_counts(normalize = True).rename_axis('family_history').reset_index(name = 'Percentage')\n",
    "\n",
    "ax = sns.barplot(x = 'family_history', y = 'Percentage', data = eda_percentage.head(10), palette='coolwarm_r')\n",
    "for p in ax.patches:\n",
    "    width = p.get_width()\n",
    "    height = p.get_height()\n",
    "    x, y = p.get_xy() \n"
   ]
  },
  {
   "cell_type": "code",
   "execution_count": null,
   "id": "848acf0e",
   "metadata": {},
   "outputs": [],
   "source": [
    "df.replace((1, 0,2),('yes', 'no','no data') , inplace=True) \n",
    "plt.figure(figsize = (8,5))\n",
    "plt.title('Employee Type', fontsize=18, fontweight='bold')\n",
    "eda_percentage = df['self_employed'].value_counts(normalize = True).rename_axis('self_employed').reset_index(name = 'Percentage')\n",
    "\n",
    "ax = sns.barplot(x = 'self_employed', y = 'Percentage', data = eda_percentage.head(10), palette='gist_stern')\n",
    "for p in ax.patches:\n",
    "    width = p.get_width()\n",
    "    height = p.get_height()\n",
    "    x, y = p.get_xy() \n"
   ]
  },
  {
   "cell_type": "code",
   "execution_count": null,
   "id": "5c6f04c0",
   "metadata": {},
   "outputs": [],
   "source": [
    "df.replace((1, 0,2),('yes', 'no','no data') , inplace=True) \n",
    "plt.figure(figsize = (8,5))\n",
    "plt.title('If Company is Technology-Based', fontsize=18, fontweight='bold')\n",
    "eda_percentage = df['tech_company'].value_counts(normalize = True).rename_axis('tech_company').reset_index(name = 'Percentage')\n",
    "\n",
    "ax = sns.barplot(x = 'tech_company', y = 'Percentage', data = eda_percentage.head(10), palette='Wistia')\n",
    "for p in ax.patches:\n",
    "    width = p.get_width()\n",
    "    height = p.get_height()\n",
    "    x, y = p.get_xy() \n"
   ]
  },
  {
   "cell_type": "code",
   "execution_count": null,
   "id": "a3081b52",
   "metadata": {},
   "outputs": [],
   "source": [
    "df.replace((1, 0,2),('yes', 'no','do not know') , inplace=True) \n",
    "plt.figure(figsize = (8,5))\n",
    "plt.title('If Company Interviews Employee for Mental health checkups', fontsize=18, fontweight='bold')\n",
    "eda_percentage = df['mental_health_interview'].value_counts(normalize = True).rename_axis('mental_health_interview').reset_index(name = 'Percentage')\n",
    "\n",
    "ax = sns.barplot(x = 'mental_health_interview', y = 'Percentage', data = eda_percentage.head(10), palette='inferno')\n",
    "for p in ax.patches:\n",
    "    width = p.get_width()\n",
    "    height = p.get_height()\n",
    "    x, y = p.get_xy() \n"
   ]
  },
  {
   "cell_type": "code",
   "execution_count": null,
   "id": "a4cc1357",
   "metadata": {},
   "outputs": [],
   "source": [
    "df.replace((1, 0,2),('yes', 'no','do not know') , inplace=True) \n",
    "plt.figure(figsize = (8,5))\n",
    "plt.title('If Company has Wellness Program for Mental health', fontsize=18, fontweight='bold')\n",
    "eda_percentage = df['wellness_program'].value_counts(normalize = True).rename_axis('wellness_program').reset_index(name = 'Percentage')\n",
    "\n",
    "ax = sns.barplot(x = 'wellness_program', y = 'Percentage', data = eda_percentage.head(10), palette='Wistia')\n",
    "for p in ax.patches:\n",
    "    width = p.get_width()\n",
    "    height = p.get_height()\n",
    "    x, y = p.get_xy() \n"
   ]
  },
  {
   "cell_type": "code",
   "execution_count": null,
   "id": "ddda43ee",
   "metadata": {},
   "outputs": [],
   "source": [
    "plt.figure(figsize = (8,5))\n",
    "plt.title('The Physical Health Consequences of Survey Respondents', fontsize=18, fontweight='bold')\n",
    "eda_percentage = df['phys_health_consequence'].value_counts(normalize = True).rename_axis('phys_health_consequence').reset_index(name = 'Percentage')\n",
    "\n",
    "ax = sns.barplot(x = 'phys_health_consequence', y = 'Percentage', data = eda_percentage.head(10), palette='PuBu_r')\n",
    "for p in ax.patches:\n",
    "    width = p.get_width()\n",
    "    height = p.get_height()\n",
    "    x, y = p.get_xy() \n"
   ]
  },
  {
   "cell_type": "code",
   "execution_count": null,
   "id": "6bb8647d",
   "metadata": {},
   "outputs": [],
   "source": [
    "plt.figure(figsize = (8,5))\n",
    "plt.title('The Benefits of Survey Respondents', fontsize=18, fontweight='bold')\n",
    "eda_percentage = df['benefits'].value_counts(normalize = True).rename_axis('benefits').reset_index(name = 'Percentage')\n",
    "\n",
    "ax = sns.barplot(x = 'benefits', y = 'Percentage', data = eda_percentage.head(10), palette='flag_r')\n",
    "for p in ax.patches:\n",
    "    width = p.get_width()\n",
    "    height = p.get_height()\n",
    "    x, y = p.get_xy() \n"
   ]
  },
  {
   "cell_type": "code",
   "execution_count": null,
   "id": "0e86e6a0",
   "metadata": {},
   "outputs": [],
   "source": [
    "plt.figure(figsize = (8,5))\n",
    "plt.title('Seeking Help', fontsize=18, fontweight='bold')\n",
    "eda_percentage = df['seek_help'].value_counts(normalize = True).rename_axis('seek_help').reset_index(name = 'Percentage')\n",
    "\n",
    "ax = sns.barplot(x = 'seek_help', y = 'Percentage', data = eda_percentage.head(10), palette='nipy_spectral_r')\n",
    "for p in ax.patches:\n",
    "    width = p.get_width()\n",
    "    height = p.get_height()\n",
    "    x, y = p.get_xy() \n"
   ]
  },
  {
   "cell_type": "code",
   "execution_count": null,
   "id": "cd74d855",
   "metadata": {},
   "outputs": [],
   "source": [
    "plt.figure(figsize = (8,5))\n",
    "plt.title('Help in Remote Work', fontsize=18, fontweight='bold')\n",
    "eda_percentage = df['remote_work'].value_counts(normalize = True).rename_axis('remote_work').reset_index(name = 'Percentage')\n",
    "\n",
    "ax = sns.barplot(x = 'remote_work', y = 'Percentage', data = eda_percentage.head(10), palette='tab20_r')\n",
    "for p in ax.patches:\n",
    "    width = p.get_width()\n",
    "    height = p.get_height()\n",
    "    x, y = p.get_xy() \n"
   ]
  },
  {
   "cell_type": "code",
   "execution_count": null,
   "id": "13c69661",
   "metadata": {},
   "outputs": [],
   "source": [
    "plt.figure(figsize = (8,5))\n",
    "plt.title('Interference during work', fontsize=18, fontweight='bold')\n",
    "eda_percentage = df['work_interfere'].value_counts(normalize = True).rename_axis('work_interfere').reset_index(name = 'Percentage')\n",
    "\n",
    "ax = sns.barplot(x = 'work_interfere', y = 'Percentage', data = eda_percentage.head(10), palette='tab20_r')\n",
    "for p in ax.patches:\n",
    "    width = p.get_width()\n",
    "    height = p.get_height()\n",
    "    x, y = p.get_xy() \n"
   ]
  },
  {
   "cell_type": "code",
   "execution_count": null,
   "id": "145f9bd7",
   "metadata": {},
   "outputs": [],
   "source": [
    "plt.figure(figsize = (8,5))\n",
    "plt.title('If there are changes for mental health', fontsize=18, fontweight='bold')\n",
    "eda_percentage = df['obs_consequence'].value_counts(normalize = True).rename_axis('obs_consequence').reset_index(name = 'Percentage')\n",
    "\n",
    "ax = sns.barplot(x = 'obs_consequence', y = 'Percentage', data = eda_percentage.head(10), palette='summer_r')\n",
    "for p in ax.patches:\n",
    "    width = p.get_width()\n",
    "    height = p.get_height()\n",
    "    x, y = p.get_xy() \n"
   ]
  },
  {
   "cell_type": "code",
   "execution_count": null,
   "id": "ee211ec0",
   "metadata": {},
   "outputs": [],
   "source": [
    "# Compute the correlation matrix\n",
    "\n",
    "from sklearn.preprocessing import LabelEncoder\n",
    "object_cols = ['Gender', 'self_employed', 'family_history', 'treatment',\n",
    "       'work_interfere', 'no_employees', 'remote_work', 'tech_company',\n",
    "       'benefits', 'care_options', 'wellness_program', 'seek_help',\n",
    "       'anonymity', 'leave', 'mental_health_consequence',\n",
    "       'phys_health_consequence', 'coworkers', 'supervisor',\n",
    "       'mental_health_interview', 'phys_health_interview',\n",
    "       'mental_vs_physical', 'obs_consequence']\n",
    "label_encoder = LabelEncoder()\n",
    "for col in object_cols:\n",
    "    label_encoder.fit(df[col])\n",
    "    df[col] = label_encoder.transform(df[col])\n",
    "corr = df.corr()\n",
    "\n",
    "mask = np.zeros_like(corr, dtype=np.bool)\n",
    "mask[np.triu_indices_from(mask)] = True\n",
    "\n",
    "f, ax = plt.subplots(figsize=(20, 20))\n",
    "\n",
    "# Draw the heatmap with the mask and correct aspect ratio\n",
    "sns.heatmap(corr, mask=mask, cmap='winter', vmax=.3, center=0,\n",
    "            square=True, linewidths=.5, cbar_kws={\"shrink\": .5}, annot = True)"
   ]
  },
  {
   "cell_type": "code",
   "execution_count": null,
   "id": "34167fe4",
   "metadata": {},
   "outputs": [],
   "source": []
  },
  {
   "cell_type": "code",
   "execution_count": null,
   "id": "7df80b28",
   "metadata": {},
   "outputs": [],
   "source": []
  }
 ],
 "metadata": {
  "kernelspec": {
   "display_name": "Python 3 (ipykernel)",
   "language": "python",
   "name": "python3"
  },
  "language_info": {
   "codemirror_mode": {
    "name": "ipython",
    "version": 3
   },
   "file_extension": ".py",
   "mimetype": "text/x-python",
   "name": "python",
   "nbconvert_exporter": "python",
   "pygments_lexer": "ipython3",
   "version": "3.9.13"
  }
 },
 "nbformat": 4,
 "nbformat_minor": 5
}
